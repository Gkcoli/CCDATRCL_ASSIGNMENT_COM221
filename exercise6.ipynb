{
  "cells": [
    {
      "cell_type": "markdown",
      "metadata": {
        "id": "view-in-github",
        "colab_type": "text"
      },
      "source": [
        "<a href=\"https://colab.research.google.com/github/Gkcoli/CCDATRCL_ASSIGNMENT_COM221/blob/main/exercise6.ipynb\" target=\"_parent\"><img src=\"https://colab.research.google.com/assets/colab-badge.svg\" alt=\"Open In Colab\"/></a>"
      ]
    },
    {
      "cell_type": "markdown",
      "metadata": {
        "id": "oUFPClSPWri1"
      },
      "source": [
        "# Exercise 6"
      ]
    },
    {
      "cell_type": "markdown",
      "metadata": {
        "id": "YWQM3X0lWri9"
      },
      "source": [
        "#### Pre-defined code"
      ]
    },
    {
      "cell_type": "code",
      "execution_count": 1,
      "metadata": {
        "id": "uBi7zp5sWri-"
      },
      "outputs": [],
      "source": [
        "class Node:\n",
        "    def __init__(self, item):\n",
        "        self.left = None\n",
        "        self.right = None\n",
        "        self.val = item"
      ]
    },
    {
      "cell_type": "code",
      "execution_count": 2,
      "metadata": {
        "id": "VX4VHnp9WrjB"
      },
      "outputs": [],
      "source": [
        "def inorder(root):\n",
        "\n",
        "    if root:\n",
        "        # Traverse left\n",
        "        inorder(root.left)\n",
        "        # Traverse root\n",
        "        print(str(root.val) + \"->\", end='')\n",
        "        # Traverse right\n",
        "        inorder(root.right)\n",
        "\n",
        "def postorder(root):\n",
        "\n",
        "    if root:\n",
        "        # Traverse left\n",
        "        postorder(root.left)\n",
        "        # Traverse right\n",
        "        postorder(root.right)\n",
        "        # Traverse root\n",
        "        print(str(root.val) + \"->\", end='')\n",
        "\n",
        "def preorder(root):\n",
        "\n",
        "    if root:\n",
        "        # Traverse root\n",
        "        print(str(root.val) + \"->\", end='')\n",
        "        # Traverse left\n",
        "        preorder(root.left)\n",
        "        # Traverse right\n",
        "        preorder(root.right)"
      ]
    },
    {
      "cell_type": "markdown",
      "metadata": {
        "id": "BRJ_C6znWrjC"
      },
      "source": [
        "#### 1. Construct Create your own company org chart and put yourself as CEO.\n",
        "\n",
        "Using a Tree data structure,\n",
        "\n",
        "- Assign yourself as CEO\n",
        "\n",
        "- Assign any of your classmate as HR Director\n",
        "- Assign any of your classmate as Sales Director\n",
        "\n",
        "- Assign any of your classmate as trainee. His/her boss is the HR Director\n",
        "- Assign any of your classmate as a staff and trainee. Their boss is the Sales Director\n"
      ]
    },
    {
      "cell_type": "markdown",
      "metadata": {
        "id": "Hh9WoH49WrjD"
      },
      "source": [
        "<img src=\"https://thumbs.dreamstime.com/z/cartoon-organization-chart-some-company-93778925.jpg\"/>"
      ]
    },
    {
      "cell_type": "code",
      "execution_count": 3,
      "metadata": {
        "id": "dewv8X3EWrjD"
      },
      "outputs": [],
      "source": [
        "# put your answer here\n",
        "root = Node(\"Coli, CEO\")\n",
        "root.left = Node(\"Iber, HR\")\n",
        "root.right = Node(\"Prans, Sales\")\n",
        "root.left.left = Node(\"Allen, Trainee\")\n",
        "root.right.left = Node(\"Miko, Staff\")\n",
        "root.right.right = Node(\"Lim, Trainee\")"
      ]
    },
    {
      "cell_type": "markdown",
      "metadata": {
        "id": "3wPFUls_WrjE"
      },
      "source": [
        "#### 2. Traverse the tree in in-order traversal"
      ]
    },
    {
      "cell_type": "code",
      "execution_count": 4,
      "metadata": {
        "id": "7nsFGVLRWrjE",
        "outputId": "0441c440-8e1e-4928-b5a1-8db8e88652a6",
        "colab": {
          "base_uri": "https://localhost:8080/"
        }
      },
      "outputs": [
        {
          "output_type": "stream",
          "name": "stdout",
          "text": [
            "in-order traversal \n",
            "Allen, Trainee->Iber, HR->Coli, CEO->Miko, Staff->Prans, Sales->Lim, Trainee->"
          ]
        }
      ],
      "source": [
        "# put your answer here\n",
        "print(\"in-order traversal \")\n",
        "inorder(root)"
      ]
    },
    {
      "cell_type": "markdown",
      "metadata": {
        "id": "xSVoic09WrjF"
      },
      "source": [
        "#### 3. Traverse the tree in pre-order traversal"
      ]
    },
    {
      "cell_type": "code",
      "execution_count": 5,
      "metadata": {
        "id": "XfyEln_GWrjG",
        "outputId": "bfa3013a-bd5f-46f9-dc33-bad662f594b7",
        "colab": {
          "base_uri": "https://localhost:8080/"
        }
      },
      "outputs": [
        {
          "output_type": "stream",
          "name": "stdout",
          "text": [
            "\n",
            "pre-order traversal \n",
            "Coli, CEO->Iber, HR->Allen, Trainee->Prans, Sales->Miko, Staff->Lim, Trainee->"
          ]
        }
      ],
      "source": [
        "# put your answer here\n",
        "print(\"\\npre-order traversal \")\n",
        "preorder(root)"
      ]
    },
    {
      "cell_type": "markdown",
      "metadata": {
        "id": "6UbLAHwGWrjH"
      },
      "source": [
        "#### 4. Traverse the tree in post-order traversal"
      ]
    },
    {
      "cell_type": "code",
      "execution_count": 7,
      "metadata": {
        "id": "Me_ATViUWrjH",
        "outputId": "c4234148-4b57-4338-b6c6-ad9d52b5a443",
        "colab": {
          "base_uri": "https://localhost:8080/"
        }
      },
      "outputs": [
        {
          "output_type": "stream",
          "name": "stdout",
          "text": [
            "\n",
            "post-order traversal \n",
            "Allen, Trainee->Iber, HR->Miko, Staff->Lim, Trainee->Prans, Sales->Coli, CEO->"
          ]
        }
      ],
      "source": [
        "# put your answer here\n",
        "print(\"\\npost-order traversal \")\n",
        "postorder(root)"
      ]
    }
  ],
  "metadata": {
    "kernelspec": {
      "display_name": "Python 3",
      "language": "python",
      "name": "python3"
    },
    "language_info": {
      "codemirror_mode": {
        "name": "ipython",
        "version": 3
      },
      "file_extension": ".py",
      "mimetype": "text/x-python",
      "name": "python",
      "nbconvert_exporter": "python",
      "pygments_lexer": "ipython3",
      "version": "3.11.4"
    },
    "orig_nbformat": 4,
    "colab": {
      "provenance": [],
      "include_colab_link": true
    }
  },
  "nbformat": 4,
  "nbformat_minor": 0
}